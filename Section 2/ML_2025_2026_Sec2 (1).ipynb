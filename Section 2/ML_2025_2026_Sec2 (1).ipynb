{
  "nbformat": 4,
  "nbformat_minor": 0,
  "metadata": {
    "colab": {
      "provenance": [],
      "include_colab_link": true
    },
    "kernelspec": {
      "name": "python3",
      "display_name": "Python 3"
    },
    "language_info": {
      "name": "python"
    }
  },
  "cells": [
    {
      "cell_type": "markdown",
      "metadata": {
        "id": "view-in-github",
        "colab_type": "text"
      },
      "source": [
        "<a href=\"https://colab.research.google.com/github/BasantShakir/Machine-Learning-2026/blob/Master/ML_2025_2026_Sec2.ipynb\" target=\"_parent\"><img src=\"https://colab.research.google.com/assets/colab-badge.svg\" alt=\"Open In Colab\"/></a>"
      ]
    },
    {
      "cell_type": "code",
      "execution_count": null,
      "metadata": {
        "id": "d7G4V2VFG-4X"
      },
      "outputs": [],
      "source": []
    },
    {
      "cell_type": "markdown",
      "metadata": {
        "id": "ffca5f55"
      },
      "source": [
        "## Explanation of ROC Curve and AUC\n",
        "\n",
        "The ROC curve and AUC are important metrics for evaluating the performance of a binary classification model.\n",
        "\n",
        "*   **ROC Curve (Receiver Operating Characteristic Curve):** This is a graphical plot that illustrates the diagnostic ability of a binary classifier system as its discrimination threshold is varied. It plots the True Positive Rate (TPR) against the False Positive Rate (FPR) at various threshold settings.\n",
        "    *   **True Positive Rate (TPR)** (also known as Recall or Sensitivity) is the proportion of actual positives that are correctly identified as positive.\n",
        "    *   **False Positive Rate (FPR)** is the proportion of actual negatives that are incorrectly identified as positive.\n",
        "    *   A good classifier will have an ROC curve that rises steeply towards the top-left corner of the plot, indicating a high TPR and a low FPR.\n",
        "    *   A diagonal line from the bottom-left to the top-right corner represents a random guess.\n",
        "\n",
        "*   **AUC (Area Under the ROC Curve):** This is a scalar value that summarizes the overall performance of a binary classifier. It represents the probability that the classifier will rank a randomly chosen positive instance higher than a randomly chosen negative instance.\n",
        "    *   An AUC of 1.0 represents a perfect classifier.\n",
        "    *   An AUC of 0.5 represents a classifier that performs no better than random chance.\n",
        "    *   An AUC between 0.5 and 1.0 indicates that the classifier has some ability to distinguish between positive and negative classes.\n",
        "\n",
        "In summary, the ROC curve visually shows the trade-off between the true positive rate and the false positive rate at different thresholds, while the AUC provides a single number to quantify the model's ability to discriminate between the two classes."
      ]
    },
    {
      "cell_type": "markdown",
      "metadata": {
        "id": "92b2f36f"
      },
      "source": [
        "This code defines sample `true_labels` and `predicted_labels` as Python lists. These lists represent the actual outcomes and the outcomes predicted by a model, respectively."
      ]
    },
    {
      "cell_type": "markdown",
      "metadata": {
        "id": "2185975a"
      },
      "source": [
        "This code imports the `confusion_matrix` function from the `sklearn.metrics` module and uses it to compute the confusion matrix based on the `true_labels` and `predicted_labels`. The result is stored in the `conf_matrix` variable and then printed."
      ]
    },
    {
      "cell_type": "markdown",
      "metadata": {
        "id": "ca86b1bc"
      },
      "source": [
        "This code extracts the values for True Negatives (TN), False Positives (FP), False Negatives (FN), and True Positives (TP) from the calculated `conf_matrix`. It then prints these values with descriptive labels."
      ]
    },
    {
      "cell_type": "markdown",
      "metadata": {
        "id": "d29974e7"
      },
      "source": [
        "This code calculates the Accuracy, Precision, Recall, and F1-score using the previously extracted TP, TN, FP, and FN values. It includes checks to prevent division by zero. Finally, it prints the calculated metrics, formatted to four decimal places."
      ]
    },
    {
      "cell_type": "markdown",
      "metadata": {
        "id": "caad627c"
      },
      "source": [
        "This code prints the confusion matrix and the calculated classification metrics (TP, TN, FP, FN, Accuracy, Precision, Recall, and F1-score) with clear headings for presentation."
      ]
    },
    {
      "cell_type": "markdown",
      "metadata": {
        "id": "f3676823"
      },
      "source": [
        "This code uses the `matplotlib` and `seaborn` libraries to create a heatmap visualization of the confusion matrix. It includes annotations for the values, labels for the axes, a title, and uses a blue color map for better readability."
      ]
    },
    {
      "cell_type": "markdown",
      "metadata": {
        "id": "0700d42e"
      },
      "source": [
        "Here are the equations for each measure:\n",
        "\n",
        "*   **Accuracy:**\n",
        "    $Accuracy = \\frac{TP + TN}{TP + TN + FP + FN}$\n",
        "\n",
        "*   **Precision:**\n",
        "    $Precision = \\frac{TP}{TP + FP}$\n",
        "\n",
        "*   **Recall (Sensitivity):**\n",
        "    $Recall = \\frac{TP}{TP + FN}$\n",
        "\n",
        "*   **F1-score:**\n",
        "    $F1-score = 2 \\times \\frac{Precision \\times Recall}{Precision + Recall}$"
      ]
    },
    {
      "cell_type": "markdown",
      "metadata": {
        "id": "a6effe75"
      },
      "source": [
        "## Metric calculation\n",
        "\n",
        "### Subtask:\n",
        "Calculate TP, TN, FP, and FN from the confusion matrix."
      ]
    },
    {
      "cell_type": "markdown",
      "metadata": {
        "id": "c3973641"
      },
      "source": [
        "**Reasoning**:\n",
        "Extract the TN, FP, FN, and TP values from the confusion matrix based on its standard layout and store them in separate variables."
      ]
    },
    {
      "cell_type": "code",
      "source": [],
      "metadata": {
        "id": "yIgJr9kYHqRB"
      },
      "execution_count": null,
      "outputs": []
    },
    {
      "cell_type": "code",
      "metadata": {
        "colab": {
          "base_uri": "https://localhost:8080/"
        },
        "id": "3d8622b1",
        "outputId": "e700178f-6119-4795-da5f-1a4cca33ae84"
      },
      "source": [
        "from sklearn.metrics import confusion_matrix\n",
        "\n",
        "true_labels1 =      [0, 1, 0, 1, 0, 0, 1, 0, 1, 1]\n",
        "predicted_labels1 = [0, 1, 1, 1, 0, 0, 0, 0, 1, 0]\n",
        "conf_matrix1 = confusion_matrix(true_labels, predicted_labels)\n",
        "\n",
        "TN = conf_matrix[0, 0]\n",
        "FP = conf_matrix[0, 1]\n",
        "FN = conf_matrix[1, 0]\n",
        "TP = conf_matrix[1, 1]\n",
        "\n",
        "print(f'TN: {TN}')\n",
        "print(f'FP: {FP}')\n",
        "print(f'FN: {FN}')\n",
        "print(f'TP: {TP}')\n",
        "\n",
        "print(\"---------------------------------------\")\n",
        "\n",
        "print(f'TN:')\n",
        "print (TN)\n",
        "print(f'FP: ')\n",
        "print( FP)\n",
        "print(f'FN:')\n",
        "print( FN)\n",
        "print(f'TP')\n",
        "print( TP)\n",
        "\n",
        "print(\"----------------------------------------\")\n",
        "print (TN)\n",
        "print( FP)\n",
        "print( FN)\n",
        "print( TP)\n",
        "\n",
        "\n",
        "\n",
        "print('---------------------------------------')\n",
        "\n",
        "print('TN: ' + str(TN))\n",
        "print('FP: ' + str(FP))\n",
        "print('FN: ' + str(FN))\n",
        "print('TP: ' + str(TP))\n",
        "\n",
        "\n",
        "\n",
        "#[0, 1, 0, 1, 0, 0, 1, 0, 1, 1]\n",
        "#[0, 1, 1, 1, 0, 0, 0, 0, 1, 0]"
      ],
      "execution_count": null,
      "outputs": [
        {
          "output_type": "stream",
          "name": "stdout",
          "text": [
            "TN: 4\n",
            "FP: 1\n",
            "FN: 2\n",
            "TP: 3\n",
            "---------------------------------------\n",
            "TN:\n",
            "4\n",
            "FP: \n",
            "1\n",
            "FN:\n",
            "2\n",
            "TP\n",
            "3\n",
            "----------------------------------------\n",
            "4\n",
            "1\n",
            "2\n",
            "3\n",
            "---------------------------------------\n",
            "TN: 4\n",
            "FP: 1\n",
            "FN: 2\n",
            "TP: 3\n"
          ]
        }
      ]
    },
    {
      "cell_type": "code",
      "metadata": {
        "colab": {
          "base_uri": "https://localhost:8080/",
          "height": 410
        },
        "id": "f6c0ab38",
        "outputId": "13506f20-a551-4f31-973d-656bfaa7570f"
      },
      "source": [
        "import matplotlib.pyplot as plt\n",
        "import seaborn as sns\n",
        "\n",
        "plt.figure(figsize=(6, 4))#حجم الصورة\n",
        "sns.heatmap(conf_matrix1, xticklabels=['Predicted Negative', 'Predicted Positive'], yticklabels=['Actual Negative', 'Actual Positive'])# xticklabels=['Predicted Negative', 'Predicted Positive'], yticklabels=['Actual Negative', 'Actual Positive']) فهمندت الجزء ده اني بحط بدل ارقام في محور x,y قسمتها لبحيث تعبر عن الحاجااتين اللي كاتبهم دول باقي السطر مش مفاهماه\n",
        "\n",
        "#fmt='d': يظهر الأرقام كأعداد صحيحة (4, 1, 2, 3).\n",
        "#fmt='.1f': يظهر الأرقام بعشرية واحدة (4.0, 1.0, 2.0, 3.0).\n",
        "#fmt='.2f': يظهر الأرقام بعشريات اثنين (4.00, 1.00, 2.00, 3.00).\n",
        "#fmt='g': يختار التنسيق الأنسب تلقائيًا (قد يظهر 4 أو 4.0 حسب القيمة).\n",
        "#fmt -----> format بتحدد اذا كان الارقام اللي هتتعرض دي عشرية ام صحيحة\n",
        "\n",
        "# وريني الشكل"
      ],
      "execution_count": null,
      "outputs": [
        {
          "output_type": "display_data",
          "data": {
            "text/plain": [
              "<Figure size 600x400 with 2 Axes>"
            ],
            "image/png": "[encoded data removed]"
          },
          "metadata": {}
        }
      ]
    },
    {
      "cell_type": "markdown",
      "metadata": {
        "id": "df080502"
      },
      "source": [
        "# Task\n",
        "Generate a confusion matrix and calculate TP, TN, FP, FN, Accuracy, Precision, Recall, and F1-score for a given set of true and predicted labels."
      ]
    },
    {
      "cell_type": "markdown",
      "metadata": {
        "id": "a7dec5c9"
      },
      "source": [
        "## Data generation or loading\n",
        "\n",
        "### Subtask:\n",
        "Generate or load sample data containing true labels and predicted labels.\n"
      ]
    },
    {
      "cell_type": "markdown",
      "metadata": {
        "id": "046d0536"
      },
      "source": [
        "**Reasoning**:\n",
        "Create sample true and predicted labels as lists for demonstration purposes.\n",
        "\n"
      ]
    },
    {
      "cell_type": "code",
      "metadata": {
        "id": "a504cbb9"
      },
      "source": [
        "true_labels =      [0, 1, 0, 1, 0, 0, 1, 0, 1, 1]\n",
        "predicted_labels = [0, 1, 1, 1, 0, 0, 0, 0, 1, 0]"
      ],
      "execution_count": null,
      "outputs": []
    },
    {
      "cell_type": "markdown",
      "metadata": {
        "id": "79ab86c6"
      },
      "source": [
        "## Confusion matrix calculation\n",
        "\n",
        "### Subtask:\n",
        "Compute the confusion matrix using the true and predicted labels.\n"
      ]
    },
    {
      "cell_type": "markdown",
      "metadata": {
        "id": "66859f7d"
      },
      "source": [
        "**Reasoning**:\n",
        "Import the confusion_matrix function and compute the confusion matrix using the provided true and predicted labels.\n",
        "\n"
      ]
    },
    {
      "cell_type": "code",
      "metadata": {
        "colab": {
          "base_uri": "https://localhost:8080/"
        },
        "id": "453868ac",
        "outputId": "53d29468-c11b-4824-a756-ce2df36faed8"
      },
      "source": [
        "from sklearn.metrics import confusion_matrix\n",
        "\n",
        "conf_matrix = confusion_matrix(true_labels, predicted_labels)\n",
        "print(conf_matrix)"
      ],
      "execution_count": null,
      "outputs": [
        {
          "output_type": "stream",
          "name": "stdout",
          "text": [
            "[[4 1]\n",
            " [2 3]]\n"
          ]
        }
      ]
    },
    {
      "cell_type": "markdown",
      "metadata": {
        "id": "02e2349d"
      },
      "source": [
        "## Metric calculation\n",
        "\n",
        "### Subtask:\n",
        "Calculate TP, TN, FP, and FN from the confusion matrix.\n"
      ]
    },
    {
      "cell_type": "markdown",
      "metadata": {
        "id": "29ad13d3"
      },
      "source": [
        "**Reasoning**:\n",
        "Extract the TN, FP, FN, and TP values from the confusion matrix based on its standard layout and store them in separate variables.\n",
        "\n"
      ]
    },
    {
      "cell_type": "code",
      "metadata": {
        "colab": {
          "base_uri": "https://localhost:8080/"
        },
        "id": "2c314fb4",
        "outputId": "ad49e5aa-c1c2-4bcd-ff3c-880bc62cf591"
      },
      "source": [
        "TN = conf_matrix[0, 0]\n",
        "FP = conf_matrix[0, 1]\n",
        "FN = conf_matrix[1, 0]\n",
        "TP = conf_matrix[1, 1]\n",
        "\n",
        "print(f'TN: {TN}')\n",
        "print(f'FP: {FP}')\n",
        "print(f'FN: {FN}')\n",
        "print(f'TP: {TP}')"
      ],
      "execution_count": null,
      "outputs": [
        {
          "output_type": "stream",
          "name": "stdout",
          "text": [
            "TN: 4\n",
            "FP: 1\n",
            "FN: 2\n",
            "TP: 3\n"
          ]
        }
      ]
    },
    {
      "cell_type": "code",
      "source": [
        "import matplotlib.pyplot as plt#دي عبارة عن مكتبة بتقدر انها ترسملي قيم انا بحطها او عن طريق اني بديله داتا علي شكل رسم بياني\n",
        "import seaborn as sns# دي نفس الكلام\n",
        "\n",
        "plt.figure(figsize=(6, 4))#حجم الصورة\n",
        "sns.heatmap(conf_matrix, annot=True, fmt='d', cmap='Blues', xticklabels=['Predicted Negative', 'Predicted Positive'], yticklabels=['Actual Negative', 'Actual Positive'])# xticklabels=['Predicted Negative', 'Predicted Positive'], yticklabels=['Actual Negative', 'Actual Positive']) فهمندت الجزء ده اني بحط بدل ارقام في محور x,y قسمتها لبحيث تعبر عن الحاجااتين اللي كاتبهم دول باقي السطر مش مفاهماه\n",
        "\n",
        "#fmt='d': يظهر الأرقام كأعداد صحيحة (4, 1, 2, 3).\n",
        "#fmt='.1f': يظهر الأرقام بعشرية واحدة (4.0, 1.0, 2.0, 3.0).\n",
        "#fmt='.2f': يظهر الأرقام بعشريات اثنين (4.00, 1.00, 2.00, 3.00).\n",
        "#fmt='g': يختار التنسيق الأنسب تلقائيًا (قد يظهر 4 أو 4.0 حسب القيمة).\n",
        "#fmt -----> format بتحدد اذا كان الارقام اللي هتتعرض دي عشرية ام صحيحة\n",
        "\n",
        "\n",
        "plt.xlabel('Predicted Label')#ده زي بيعمل مسمي لمحور x\n",
        "plt.ylabel('True Label')#بيعمل مسمي لمحور y\n",
        "plt.title('Confusion Matrix')#العنوان\n",
        "plt.show()"
      ],
      "metadata": {
        "colab": {
          "base_uri": "https://localhost:8080/",
          "height": 410
        },
        "id": "I31jXNhkYFKC",
        "outputId": "2800d489-a517-4a1c-d947-a771da41f602"
      },
      "execution_count": null,
      "outputs": [
        {
          "output_type": "display_data",
          "data": {
            "text/plain": [
              "<Figure size 600x400 with 2 Axes>"
            ],
            "image/png": "[encoded data removed]"
          },
          "metadata": {}
        }
      ]
    },
    {
      "cell_type": "markdown",
      "metadata": {
        "id": "d51615e9"
      },
      "source": [
        "## Metric calculation\n",
        "\n",
        "### Subtask:\n",
        "Calculate Accuracy, Precision, Recall, and F1-score using the calculated TP, TN, FP, and FN values.\n"
      ]
    },
    {
      "cell_type": "markdown",
      "metadata": {
        "id": "bab46235"
      },
      "source": [
        "**Reasoning**:\n",
        "Calculate Accuracy, Precision, Recall, and F1-score using the previously calculated TP, TN, FP, and FN values, handling potential division by zero.\n",
        "\n"
      ]
    },
    {
      "cell_type": "code",
      "metadata": {
        "colab": {
          "base_uri": "https://localhost:8080/"
        },
        "id": "bd6e6ae1",
        "outputId": "2929a9bf-31bd-427c-d1a6-199dd9abe490"
      },
      "source": [
        "accuracy = (TP + TN) / (TP + TN + FP + FN)\n",
        "\n",
        "precision = TP / (TP + FP) if (TP + FP) > 0 else 0\n",
        "\n",
        "recall = TP / (TP + FN) if (TP + FN) > 0 else 0\n",
        "\n",
        "f1_score = 2 * (precision * recall) / (precision + recall) if (precision + recall) > 0 else 0\n",
        "\n",
        "print(f'Accuracy: {accuracy:.4f}')\n",
        "print(f'Precision: {precision:.4f}')\n",
        "print(f'Recall: {recall:.4f}')\n",
        "print(f'F1-score: {f1_score:.4f}')"
      ],
      "execution_count": null,
      "outputs": [
        {
          "output_type": "stream",
          "name": "stdout",
          "text": [
            "Accuracy: 0.7000\n",
            "Precision: 0.7500\n",
            "Recall: 0.6000\n",
            "F1-score: 0.6667\n"
          ]
        }
      ]
    },
    {
      "cell_type": "markdown",
      "metadata": {
        "id": "77d4e8d8"
      },
      "source": [
        "## Presentation\n",
        "\n",
        "### Subtask:\n",
        "Present the confusion matrix and the calculated metrics (TP, TN, FP, FN, Accuracy, Precision, Recall, F1-score).\n"
      ]
    },
    {
      "cell_type": "markdown",
      "metadata": {
        "id": "0686c235"
      },
      "source": [
        "**Reasoning**:\n",
        "Print the confusion matrix and the calculated metrics with appropriate headings and formatting.\n",
        "\n"
      ]
    },
    {
      "cell_type": "code",
      "metadata": {
        "colab": {
          "base_uri": "https://localhost:8080/"
        },
        "id": "03619bbd",
        "outputId": "41fa0d8f-6f74-4f7c-d6f6-cb81883607fc"
      },
      "source": [
        "print(\"--- Confusion Matrix ---\")\n",
        "print(conf_matrix)\n",
        "print(\"\\n--- Classification Metrics ---\")\n",
        "print(f\"True Positives (TP): {TP}\")\n",
        "print(f\"True Negatives (TN): {TN}\")\n",
        "print(f\"False Positives (FP): {FP}\")\n",
        "print(f\"False Negatives (FN): {FN}\")\n",
        "print(f\"Accuracy: {accuracy:.4f}\")\n",
        "print(f\"Precision: {precision:.4f}\")\n",
        "print(f\"Recall: {recall:.4f}\")\n",
        "print(f\"F1-score: {f1_score:.4f}\")"
      ],
      "execution_count": null,
      "outputs": [
        {
          "output_type": "stream",
          "name": "stdout",
          "text": [
            "--- Confusion Matrix ---\n",
            "[[4 1]\n",
            " [2 3]]\n",
            "\n",
            "--- Classification Metrics ---\n",
            "True Positives (TP): 3\n",
            "True Negatives (TN): 4\n",
            "False Positives (FP): 1\n",
            "False Negatives (FN): 2\n",
            "Accuracy: 0.7000\n",
            "Precision: 0.7500\n",
            "Recall: 0.6000\n",
            "F1-score: 0.6667\n"
          ]
        }
      ]
    },
    {
      "cell_type": "markdown",
      "metadata": {
        "id": "4f7add47"
      },
      "source": [
        "## Summary:\n",
        "\n",
        "### Data Analysis Key Findings\n",
        "\n",
        "*   The confusion matrix calculated from the true and predicted labels is `[[4 1], [2 3]]`.\n",
        "*   Based on the confusion matrix, the calculated values are: True Positives (TP) = 3, True Negatives (TN) = 4, False Positives (FP) = 1, and False Negatives (FN) = 2.\n",
        "*   The performance metrics for the classification are: Accuracy = 0.7000, Precision = 0.7500, Recall = 0.6000, and F1-score = 0.6667.\n",
        "\n",
        "### Insights or Next Steps\n",
        "\n",
        "*   The model shows reasonable accuracy, but the difference between Precision and Recall suggests potential trade-offs depending on the application's priority (minimizing false positives vs. minimizing false negatives).\n",
        "*   Investigating the samples where the model made False Positive and False Negative predictions could provide insights for model improvement.\n"
      ]
    },
    {
      "cell_type": "markdown",
      "metadata": {
        "id": "49b285d2"
      },
      "source": [
        "# Task\n",
        "Generate a confusion matrix for a binary classification problem, visualize it with color, calculate and explain TP, TN, FP, and FN, compute and explain the equations for accuracy, precision, recall, and F1-score, and generate and plot the ROC curve with AUC."
      ]
    },
    {
      "cell_type": "markdown",
      "metadata": {
        "id": "48896c11"
      },
      "source": [
        "## Calculate roc curve\n",
        "\n",
        "### Subtask:\n",
        "Compute the False Positive Rate (FPR), True Positive Rate (TPR), and thresholds for the ROC curve.\n"
      ]
    },
    {
      "cell_type": "markdown",
      "metadata": {
        "id": "88ca6059"
      },
      "source": [
        "**Reasoning**:\n",
        "Import the `roc_curve` function and compute the FPR, TPR, and thresholds using the provided true and predicted labels.\n",
        "\n"
      ]
    },
    {
      "cell_type": "code",
      "metadata": {
        "id": "ba1a6f77"
      },
      "source": [
        "from sklearn.metrics import roc_curve\n",
        "\n",
        "fpr, tpr, thresholds = roc_curve(true_labels, predicted_labels)"
      ],
      "execution_count": null,
      "outputs": []
    },
    {
      "cell_type": "markdown",
      "metadata": {
        "id": "5e1b2721"
      },
      "source": [
        "## Calculate auc\n",
        "\n",
        "### Subtask:\n",
        "Calculate the Area Under the ROC Curve (AUC).\n"
      ]
    },
    {
      "cell_type": "markdown",
      "metadata": {
        "id": "ab4024de"
      },
      "source": [
        "**Reasoning**:\n",
        "Calculate the Area Under the ROC Curve (AUC) using the true and predicted labels.\n",
        "\n"
      ]
    },
    {
      "cell_type": "code",
      "metadata": {
        "colab": {
          "base_uri": "https://localhost:8080/"
        },
        "id": "75c155a9",
        "outputId": "5a72d785-a52d-462d-cffc-39dfc03f5f2d"
      },
      "source": [
        "from sklearn.metrics import roc_auc_score\n",
        "\n",
        "auc = roc_auc_score(true_labels, predicted_labels)\n",
        "print(f'AUC: {auc:.4f}')"
      ],
      "execution_count": null,
      "outputs": [
        {
          "output_type": "stream",
          "name": "stdout",
          "text": [
            "AUC: 0.7000\n"
          ]
        }
      ]
    },
    {
      "cell_type": "markdown",
      "metadata": {
        "id": "7e909b62"
      },
      "source": [
        "## Plot roc curve\n",
        "\n",
        "### Subtask:\n",
        "Plot the ROC curve using the calculated FPR and TPR values.\n"
      ]
    },
    {
      "cell_type": "markdown",
      "metadata": {
        "id": "bc29f3b0"
      },
      "source": [
        "**Reasoning**:\n",
        "Plot the ROC curve using the calculated FPR and TPR values, add labels, title, a diagonal line, the AUC annotation, and set the axis limits.\n",
        "\n"
      ]
    },
    {
      "cell_type": "code",
      "metadata": {
        "colab": {
          "base_uri": "https://localhost:8080/",
          "height": 564
        },
        "id": "ecca222f",
        "outputId": "30eab770-358e-4cf1-86a1-fc0ea4895f0f"
      },
      "source": [
        "import matplotlib.pyplot as plt\n",
        "\n",
        "plt.figure(figsize=(8, 6))\n",
        "plt.plot(fpr, tpr, label='ROC curve')\n",
        "plt.plot([0, 1], [0, 1],ues linestyle='--', color='red', label='Random gs')\n",
        "plt.xlabel('False Positive Rate')\n",
        "plt.ylabel('True Positive Rate')\n",
        "plt.title('ROC Curve')\n",
        "plt.xlim([0.0, 1.0])\n",
        "plt.ylim([0.0, 1.0])\n",
        "plt.text(0.7, 0.2, f'AUC: {auc:.4f}', fontsize=12)\n",
        "plt.legend()\n",
        "plt.show()"
      ],
      "execution_count": null,
      "outputs": [
        {
          "output_type": "display_data",
          "data": {
            "text/plain": [
              "<Figure size 800x600 with 1 Axes>"
            ],
            "image/png": "[encoded data removed]"
          },
          "metadata": {}
        }
      ]
    },
    {
      "cell_type": "markdown",
      "metadata": {
        "id": "be879cfe"
      },
      "source": [
        "## Present results\n",
        "\n",
        "### Subtask:\n",
        "Display the ROC curve plot and the calculated AUC value.\n"
      ]
    },
    {
      "cell_type": "markdown",
      "metadata": {
        "id": "20b6b63e"
      },
      "source": [
        "**Reasoning**:\n",
        "Display the ROC curve plot that was generated in the previous step and print the calculated AUC value.\n",
        "\n"
      ]
    },
    {
      "cell_type": "code",
      "metadata": {
        "colab": {
          "base_uri": "https://localhost:8080/"
        },
        "id": "e7e2016f",
        "outputId": "b3dc3fa6-d859-4a87-df41-a14a48651d16"
      },
      "source": [
        "# The ROC curve plot was generated and displayed in the previous step using plt.show()\n",
        "# Now, we just need to print the AUC value.\n",
        "print(f'Area Under the Curve (AUC): {auc:.4f}')"
      ],
      "execution_count": null,
      "outputs": [
        {
          "output_type": "stream",
          "name": "stdout",
          "text": [
            "Area Under the Curve (AUC): 0.7000\n"
          ]
        }
      ]
    },
    {
      "cell_type": "markdown",
      "metadata": {
        "id": "fd133aae"
      },
      "source": [
        "## Summary:\n",
        "\n",
        "### Data Analysis Key Findings\n",
        "\n",
        "*   The Area Under the ROC Curve (AUC) was calculated to be 0.7000.\n",
        "*   The ROC curve was successfully plotted, displaying the relationship between the True Positive Rate (TPR) and the False Positive Rate (FPR).\n",
        "*   The plot included a diagonal line representing a random guess and was annotated with the calculated AUC value.\n",
        "\n",
        "### Insights or Next Steps\n",
        "\n",
        "*   An AUC of 0.70 suggests that the model has some ability to distinguish between the positive and negative classes, performing better than random chance but indicating room for improvement.\n",
        "*   Further analysis of the confusion matrix (which was not explicitly shown in the provided steps) and other metrics like precision and recall would provide a more complete understanding of the model's performance characteristics and help identify potential areas for optimization.\n"
      ]
    }
  ]
}